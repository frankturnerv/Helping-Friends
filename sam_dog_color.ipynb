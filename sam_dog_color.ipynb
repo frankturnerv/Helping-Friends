{
 "cells": [
  {
   "cell_type": "markdown",
   "metadata": {},
   "source": [
    "I am writing this notebook so that I can help another student of mine who is working on a capstone project using a large database of shelter animals. The data set is interesting because it contains over 500 color combinations of dogs, cats, and other animals (like racoons). in addition to the color combinations, words for color patterns and breeds are often mixed in.\n",
    "\n",
    "The data is formatted as such \n",
    "color1\n",
    "color1 / color2\n",
    "color1 pattern1 / color2 \n",
    "pattern1 color1 / color2 \n",
    "color1 / pattern2 color2\n",
    "color1 / color2 pattern2\n",
    "color1 pattern1 / color2 pattern2\n",
    "color1 pattern1 / pattern2 color2\n",
    "pattern 1color1 / color2 pattern2\n",
    "pattern 1color1 / pattern2 color2\n",
    "\n",
    "The goal is to create a new dataframe that includes the keys color1 color2 pattern1 pattern2"
   ]
  },
  {
   "cell_type": "code",
   "execution_count": 90,
   "metadata": {},
   "outputs": [],
   "source": [
    "possible_colors = ['red',\n",
    "                  'blue',\n",
    "                  'black']\n",
    "possible_patterns = ['calico',\n",
    "                    'tabby',\n",
    "                    'brindle']\n",
    "\n",
    "def split_colors(color_string):\n",
    "    color_dict = {'color1':False,\n",
    "                  'color2':False,\n",
    "                  'pattern1':False,\n",
    "                  'pattern2':False,\n",
    "                  'message':[]}#message is a catch all for any unexpected data\n",
    "    \n",
    "    if ' 'in color_string:\n",
    "        color_string = color_string.split(' ')\n",
    "    \n",
    "    for color_pattern in color_string:\n",
    "        if color_pattern in possible_colors:#then it is a color\n",
    "            if not color_dict['color1']:color_dict['color1']=color_pattern\n",
    "            elif not color_dict['color2']:color_dict['color2']=color_pattern\n",
    "            else: color_dict['message'].append(color_pattern)\n",
    "        elif color_pattern in possible_patterns:#then it is not considered a color\n",
    "            if not color_dict['pattern1']:color_dict['pattern1']=color_pattern\n",
    "            elif not color_dict['pattern2']:color_dict['pattern2']=color_pattern\n",
    "            else: color_dict['message'].append(color_pattern)\n",
    "        elif color_pattern==('/'):pass\n",
    "        else:\n",
    "            color_dict['message'].append(color_pattern)\n",
    "    \n",
    "    return color_dict\n",
    "    \n",
    "#IN IT'S CURRENT FORM, THIS CODE:\n",
    "# 1. WILL NOT WORK IF / IS NEXT TO A CHARACTER\n",
    "# 2. ONLY WORKS WITH LOWER CASE LETTERS"
   ]
  },
  {
   "cell_type": "code",
   "execution_count": 91,
   "metadata": {},
   "outputs": [
    {
     "data": {
      "text/plain": [
       "{'color1': 'red',\n",
       " 'color2': 'blue',\n",
       " 'message': [],\n",
       " 'pattern1': False,\n",
       " 'pattern2': False}"
      ]
     },
     "execution_count": 91,
     "metadata": {},
     "output_type": "execute_result"
    }
   ],
   "source": [
    "color_string = 'red / blue'\n",
    "split_colors(color_string)"
   ]
  },
  {
   "cell_type": "code",
   "execution_count": 92,
   "metadata": {},
   "outputs": [
    {
     "data": {
      "text/plain": [
       "{'color1': 'red',\n",
       " 'color2': 'blue',\n",
       " 'message': [''],\n",
       " 'pattern1': 'calico',\n",
       " 'pattern2': False}"
      ]
     },
     "execution_count": 92,
     "metadata": {},
     "output_type": "execute_result"
    }
   ],
   "source": [
    "color_string = 'red  calico / blue'\n",
    "split_colors(color_string)"
   ]
  },
  {
   "cell_type": "code",
   "execution_count": 93,
   "metadata": {},
   "outputs": [
    {
     "data": {
      "text/plain": [
       "{'color1': 'red',\n",
       " 'color2': 'blue',\n",
       " 'message': [''],\n",
       " 'pattern1': 'calico',\n",
       " 'pattern2': 'brindle'}"
      ]
     },
     "execution_count": 93,
     "metadata": {},
     "output_type": "execute_result"
    }
   ],
   "source": [
    "color_string = 'red  calico / brindle blue'\n",
    "split_colors(color_string)"
   ]
  },
  {
   "cell_type": "code",
   "execution_count": 94,
   "metadata": {},
   "outputs": [
    {
     "data": {
      "text/plain": [
       "{'color1': 'red',\n",
       " 'color2': 'black',\n",
       " 'message': ['farts', '', 'blue'],\n",
       " 'pattern1': 'brindle',\n",
       " 'pattern2': False}"
      ]
     },
     "execution_count": 94,
     "metadata": {},
     "output_type": "execute_result"
    }
   ],
   "source": [
    "color_string = 'farts red  black / brindle blue'\n",
    "split_colors(color_string)"
   ]
  },
  {
   "cell_type": "code",
   "execution_count": 96,
   "metadata": {},
   "outputs": [
    {
     "data": {
      "text/plain": [
       "{'color1': 'red',\n",
       " 'color2': 'black',\n",
       " 'message': ['farts', '', 'blue'],\n",
       " 'pattern1': 'brindle',\n",
       " 'pattern2': 'tabby'}"
      ]
     },
     "execution_count": 96,
     "metadata": {},
     "output_type": "execute_result"
    }
   ],
   "source": [
    "color_string = 'farts red  black / brindle blue tabby'\n",
    "split_colors(color_string)"
   ]
  },
  {
   "cell_type": "code",
   "execution_count": null,
   "metadata": {},
   "outputs": [],
   "source": []
  }
 ],
 "metadata": {
  "kernelspec": {
   "display_name": "Python 3",
   "language": "python",
   "name": "python3"
  },
  "language_info": {
   "codemirror_mode": {
    "name": "ipython",
    "version": 3
   },
   "file_extension": ".py",
   "mimetype": "text/x-python",
   "name": "python",
   "nbconvert_exporter": "python",
   "pygments_lexer": "ipython3",
   "version": "3.6.4"
  },
  "varInspector": {
   "cols": {
    "lenName": 16,
    "lenType": 16,
    "lenVar": 40
   },
   "kernels_config": {
    "python": {
     "delete_cmd_postfix": "",
     "delete_cmd_prefix": "del ",
     "library": "var_list.py",
     "varRefreshCmd": "print(var_dic_list())"
    },
    "r": {
     "delete_cmd_postfix": ") ",
     "delete_cmd_prefix": "rm(",
     "library": "var_list.r",
     "varRefreshCmd": "cat(var_dic_list()) "
    }
   },
   "types_to_exclude": [
    "module",
    "function",
    "builtin_function_or_method",
    "instance",
    "_Feature"
   ],
   "window_display": false
  }
 },
 "nbformat": 4,
 "nbformat_minor": 2
}
